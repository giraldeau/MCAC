{
 "cells": [
  {
   "cell_type": "code",
   "execution_count": null,
   "metadata": {},
   "outputs": [],
   "source": [
    "# To be done only once\n",
    "#!cythonize Analyze_cython.pyx -i\n",
    "#!cythonize sbl_wrapper.pyx -i"
   ]
  },
  {
   "cell_type": "code",
   "execution_count": null,
   "metadata": {
    "scrolled": true
   },
   "outputs": [],
   "source": [
    "from pathlib import Path\n",
    "import numpy as np\n",
    "from DLCA_Reader import DLCA\n",
    "\n",
    "# The folder with all .h5 and .xmf files\n",
    "data_dir = Path(\"output_dir/\")\n",
    "\n",
    "# Read all data\n",
    "Spheres, Aggregates = DLCA(data_dir).read()"
   ]
  },
  {
   "cell_type": "code",
   "execution_count": null,
   "metadata": {},
   "outputs": [],
   "source": [
    "# Create a new collumn in Aggregates that contains the giration diameter of all aggregates\n",
    "Aggregates[\"Dg\"] = 2 * Aggregates[\"Rg\"]\n",
    "Spheres[\"Diameter\"] = 2 * Spheres[\"Radius\"]\n",
    "\n",
    "# Create a new collumn in Aggregates that contains the mean diameter the spheres of each aggregates\n",
    "# This also means that we need to compute\n",
    "# the mean of the diameter of all the spheres that shares the same time and the same label\n",
    "# Reminder : label is the unique number given to an aggregate to recognize it\n",
    "Aggregates[\"MeanDp\"] = Spheres.groupby(by=[\"Time\", \"Label\"])[\"Diameter\"].mean()\n",
    "\n",
    "# Compute Dg over Dp\n",
    "Aggregates[\"DgOverDp\"] = Aggregates[\"Dg\"] / Aggregates[\"MeanDp\"]"
   ]
  },
  {
   "cell_type": "code",
   "execution_count": null,
   "metadata": {},
   "outputs": [],
   "source": [
    "#select aggregates from the first half time period\n",
    "times = Aggregates.index.get_level_values(0)\n",
    "\n",
    "tlimit = times.max() / 2\n",
    "Selection = Aggregates.loc[:tlimit]\n",
    "\n",
    "#select aggregates with less than 50 spheres\n",
    "Selection = Selection[Selection.Np <50]\n",
    "\n",
    "# get the aggregates with the largest ratio Dg / Dp\n",
    "t, label = Selection[\"DgOverDp\"].idxmax()\n",
    "Agg_max_Rg = Selection.loc[t, label]\n",
    "\n",
    "print(Agg_max_Rg)\n",
    "print(\"The name here is (time, label)\")"
   ]
  },
  {
   "cell_type": "code",
   "execution_count": null,
   "metadata": {
    "scrolled": true
   },
   "outputs": [],
   "source": [
    "# get the coresponding spheres\n",
    "Sph_max_Rg = Spheres[Spheres[\"Label\"] == label].loc[t]\n",
    "print(Sph_max_Rg)\n",
    "\n",
    "#write to file\n",
    "Sph_max_Rg.to_csv(\"MyAggregate.csv\", header=True)"
   ]
  },
  {
   "cell_type": "code",
   "execution_count": null,
   "metadata": {},
   "outputs": [],
   "source": [
    "%matplotlib notebook\n",
    "from DLCAtools import view_proj_agg\n",
    "\n",
    "view_proj_agg(Agg_max_Rg, Spheres)\n",
    "view_proj_agg(Agg_max_Rg, Spheres, reduce=np.max)"
   ]
  },
  {
   "cell_type": "code",
   "execution_count": null,
   "metadata": {},
   "outputs": [],
   "source": [
    "%matplotlib notebook\n",
    "from DLCAtools import view_agg\n",
    "    \n",
    "Agg = Agg_max_Rg\n",
    "#Agg = Aggregates.loc[0., 0.]\n",
    "view_agg(Agg, Spheres)"
   ]
  },
  {
   "cell_type": "code",
   "execution_count": null,
   "metadata": {},
   "outputs": [],
   "source": [
    "#Compute the mean for each time step\n",
    "time_agg = Aggregates.groupby(by=\"Time\").agg((np.mean))"
   ]
  },
  {
   "cell_type": "code",
   "execution_count": null,
   "metadata": {},
   "outputs": [],
   "source": [
    "%matplotlib notebook\n",
    "import matplotlib.pyplot as plt\n",
    "\n",
    "fig, ax = plt.subplots()\n",
    "ax.loglog(time_agg[\"Np\"])\n",
    "ax.set_xlabel('Time (s)', fontsize=9)\n",
    "ax.set_ylabel('Mean Np', fontsize=9)\n",
    "fig.suptitle('Time evolution of Np', fontsize=11)\n",
    "plt.show()\n"
   ]
  },
  {
   "cell_type": "code",
   "execution_count": null,
   "metadata": {},
   "outputs": [],
   "source": [
    "%matplotlib notebook\n",
    "import matplotlib.pyplot as plt\n",
    "\n",
    "fig, ax = plt.subplots()\n",
    "ax.loglog((time_agg[\"Dg\"]))\n",
    "ax.set_xlabel('Time (s)', fontsize=9)\n",
    "ax.set_ylabel('Dg moyen (nm)', fontsize=9)\n",
    "plt.suptitle('Variation du Dg dans le temps', fontsize=11)\n",
    "plt.show()\n"
   ]
  },
  {
   "cell_type": "code",
   "execution_count": null,
   "metadata": {},
   "outputs": [],
   "source": [
    "%matplotlib notebook\n",
    "import matplotlib.pyplot as plt\n",
    "from sklearn import linear_model\n",
    "\n",
    "fig, ax = plt.subplots()\n",
    "ax.loglog(Aggregates[\"DgOverDp\"],\n",
    "        Aggregates[\"Np\"],'.', label=\"Aggregates\")\n",
    "ax.set_xlabel('Dg/Dp', fontsize=9)\n",
    "ax.set_ylabel('Mean Np', fontsize=9)\n",
    "\n",
    "# ignore the too small aggregates\n",
    "subset = Aggregates[Aggregates.Np > 2]\n",
    "\n",
    "# fit the fractal law (not the simplest way to do it)\n",
    "model = linear_model.LinearRegression()\n",
    "model.fit(np.log(subset[\"DgOverDp\"])[:, np.newaxis],\n",
    "          np.log(subset[\"Np\"]))\n",
    "\n",
    "print(\"Fractal Law: \", np.exp(model.intercept_), \"x^\", *model.coef_)\n",
    "\n",
    "# Predict data of estimated models\n",
    "X = np.linspace(np.log(subset[\"DgOverDp\"]).min(),\n",
    "                np.log(subset[\"DgOverDp\"]).max())[:, np.newaxis]\n",
    "Y = model.predict(X)\n",
    "X = np.exp(X)\n",
    "Y = np.exp(Y)\n",
    "\n",
    "plt.plot(X,Y, label=\"Fit\")\n",
    "fig.suptitle('Evolution of Np in function of Dg/Dp', fontsize=11)\n",
    "plt.legend()\n",
    "plt.show()"
   ]
  },
  {
   "cell_type": "code",
   "execution_count": null,
   "metadata": {},
   "outputs": [],
   "source": [
    "%matplotlib notebook\n",
    "import matplotlib.pyplot as plt\n",
    "from DLCAtools import coverages\n",
    "\n",
    "# Compute the overlapping coefficient for all the aggregates\n",
    "Aggregates[\"cov\"] = coverages(Spheres, Aggregates)\n",
    "\n",
    "#Filter out aggregates that have only one spheres\n",
    "cov = Aggregates[\"cov\"][Aggregates[\"Np\"] > 1]\n",
    "\n",
    "#Compute the mean overlapping coefficient for each time step\n",
    "time_cov = cov.groupby(by=\"Time\").agg((np.mean))\n",
    "\n",
    "#Plot the evolution of the overlapping coefficient in time.\n",
    "fig, ax = plt.subplots()\n",
    "ax.loglog(time_cov)\n",
    "ax.set_xlabel('Time (s)', fontsize=9)\n",
    "ax.set_ylabel('Overlapping coefficient', fontsize=9)\n",
    "plt.suptitle('Time evolution of the overlapping coefficient', fontsize=11)\n",
    "plt.show()\n"
   ]
  },
  {
   "cell_type": "code",
   "execution_count": null,
   "metadata": {},
   "outputs": [],
   "source": [
    "%matplotlib notebook\n",
    "import matplotlib as mpl\n",
    "import matplotlib.pyplot as plt\n",
    "from mpl_toolkits.mplot3d import Axes3D\n",
    "\n",
    "def graph(bins,debut, fin, biny=0):\n",
    "    \n",
    "    # get the data\n",
    "    data = Aggregates[\"Dg\"].loc[debut:fin, :]\n",
    "    \n",
    "    # compute the histogram\n",
    "    hist, binx = np.histogram(data, bins=bins)\n",
    "    \n",
    "    # bar3d does not work in logscale\n",
    "    binx = np.log10(binx)\n",
    "\n",
    "    # normalize all the histograms (we may have more or less time step for each time range)\n",
    "    hist_norm = hist / hist.sum()\n",
    "    \n",
    "    # plot the histogram\n",
    "    surf = ax.bar3d(binx[:-1], biny, 0,\n",
    "                     dx = np.diff(binx), dy = 0.5, dz = hist_norm,\n",
    "                    alpha=0.5, label=\"{:5.2e}s -> {:5.2e}s\".format(debut, fin))\n",
    "\n",
    "    # workaround an another matplotlib bug\n",
    "    surf._facecolors3d = mpl.colors.to_rgba_array(\n",
    "                          surf._facecolors3d, surf._alpha)\n",
    "    surf._edgecolors3d = mpl.colors.to_rgba_array(\n",
    "                          surf._edgecolors3d, surf._alpha)\n",
    "    surf._facecolors2d=surf._facecolors3d\n",
    "    surf._edgecolors2d=surf._edgecolors3d\n",
    "    \n",
    "\n",
    "# Split the time range in even parts\n",
    "times = Aggregates.index.get_level_values(0)\n",
    "limits = np.linspace(0, times.max()/5, 5)\n",
    "\n",
    "# Create the categories\n",
    "bins = np.logspace(np.log10(Aggregates[\"Dg\"].min()),\n",
    "                   np.log10(Aggregates[\"Dg\"].max()), 20)\n",
    "\n",
    "# Create a new figure (we need it to put all graphs on the same figure)\n",
    "fig = plt.figure()\n",
    "ax = fig.add_subplot(111, projection='3d')\n",
    "\n",
    "for i,(debut, fin) in enumerate(zip(limits[:-1], limits[1:])):\n",
    "    graph(bins, debut, fin, i)\n",
    "        \n",
    "ax.set_xlabel('log10(Dg)')\n",
    "plt.suptitle(\"Histogram of the gyration diameter for some period of time\")\n",
    "ax.legend()\n",
    "plt.show()"
   ]
  },
  {
   "cell_type": "code",
   "execution_count": null,
   "metadata": {},
   "outputs": [],
   "source": [
    "from DLCAtools import inertia\n",
    "\n",
    "Agg = Agg_max_Rg\n",
    "#Agg = Aggregates.loc[0., 0.]\n",
    "\n",
    "inertia_agg = inertia(Agg, Spheres)\n",
    "print(\"Gyration radius (code): \", Agg.Rg)\n",
    "print(\"Gyration radius:        \", np.sqrt(np.sum(inertia_agg)/2))\n",
    "print(\"Anisotropy:             \", inertia_agg.max()/inertia_agg.min())\n"
   ]
  },
  {
   "cell_type": "code",
   "execution_count": null,
   "metadata": {
    "scrolled": false
   },
   "outputs": [],
   "source": [
    "from DLCAtools import surface_volume_sbl\n",
    "Agg = Aggregates.loc[0., 0]\n",
    "\n",
    "print(\"Sphere\")\n",
    "print(\"  DLCA\")\n",
    "print(\"    Volume:  \", Agg.Volume)\n",
    "print(\"    Surface: \", Agg.Surface)\n",
    "print()\n",
    "print(\"  SBL\")\n",
    "volsbl, surfsbl = surface_volume_sbl(Agg, Spheres)\n",
    "print(\"    Volume:  \", volsbl)\n",
    "print(\"    Surface: \", surfsbl)\n",
    "\n",
    "Agg = Agg_max_Rg\n",
    "print()\n",
    "print(\"Aggregate rg max\")\n",
    "print(\"  DLCA\")\n",
    "print(\"    Volume:  \", Agg.Volume)\n",
    "print(\"    Surface: \", Agg.Surface)\n",
    "print()\n",
    "print(\"  SBL\")\n",
    "volsbl, surfsbl = surface_volume_sbl(Agg, Spheres)\n",
    "print(\"    Volume:  \", volsbl)\n",
    "print(\"    Surface: \", surfsbl)\n",
    "\n",
    "Agg = Aggregates.iloc[-1]\n",
    "print()\n",
    "print(\"Last Aggregate\")\n",
    "print(\"  DLCA\")\n",
    "print(\"    Volume:  \", Agg.Volume)\n",
    "print(\"    Surface: \", Agg.Surface)\n",
    "print()\n",
    "print(\"  SBL\")\n",
    "volsbl, surfsbl = surface_volume_sbl(Agg, Spheres)\n",
    "print(\"    Volume:  \", volsbl)\n",
    "print(\"    Surface: \", surfsbl)\n"
   ]
  },
  {
   "cell_type": "code",
   "execution_count": null,
   "metadata": {},
   "outputs": [],
   "source": [
    "%matplotlib notebook\n",
    "import matplotlib.pyplot as plt\n",
    "from DLCAtools import autocorrelation3d\n",
    "\n",
    "Agg = Aggregates.iloc[-1]\n",
    "radius, volumes = autocorrelation3d(Agg, Spheres, 32, 16)\n",
    "\n",
    "plt.figure()\n",
    "plt.loglog(radius, volumes, '-o')\n",
    "plt.show()"
   ]
  },
  {
   "cell_type": "code",
   "execution_count": null,
   "metadata": {},
   "outputs": [],
   "source": [
    "import numpy as np\n",
    "p = (np.log(0.445) - np.log(0.00309))/(np.log(1.29e-8) - np.log(7.16e-7))\n",
    "#p = (np.log(0.000674) - np.log(0.00234))/(np.log(4.73e-7) - np.log(1.35e-7))\n",
    "print(3 + p)"
   ]
  },
  {
   "cell_type": "code",
   "execution_count": null,
   "metadata": {},
   "outputs": [],
   "source": [
    "from DLCAtools import export_ddscat\n",
    "\n",
    "Agg = Aggregates.iloc[-1]\n",
    "\n",
    "export_ddscat(Agg, Spheres, type_limits=[-0.2, 0.])"
   ]
  },
  {
   "cell_type": "markdown",
   "metadata": {},
   "source": [
    "**Have Fun !**"
   ]
  }
 ],
 "metadata": {
  "kernelspec": {
   "display_name": "Python 3",
   "language": "python",
   "name": "python3"
  },
  "language_info": {
   "codemirror_mode": {
    "name": "ipython",
    "version": 3
   },
   "file_extension": ".py",
   "mimetype": "text/x-python",
   "name": "python",
   "nbconvert_exporter": "python",
   "pygments_lexer": "ipython3",
   "version": "3.4.8"
  },
  "toc": {
   "base_numbering": 1,
   "nav_menu": {},
   "number_sections": true,
   "sideBar": false,
   "skip_h1_title": false,
   "title_cell": "Table of Contents",
   "title_sidebar": "Contents",
   "toc_cell": false,
   "toc_position": {},
   "toc_section_display": true,
   "toc_window_display": false
  }
 },
 "nbformat": 4,
 "nbformat_minor": 2
}
