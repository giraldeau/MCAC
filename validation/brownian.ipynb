{
 "cells": [
  {
   "cell_type": "code",
   "execution_count": null,
   "metadata": {
    "pycharm": {
     "name": "#%%\n"
    }
   },
   "outputs": [],
   "source": [
    "from pathlib import Path\n",
    "from time import time\n",
    "\n",
    "import matplotlib.pyplot as plt\n",
    "import pandas as pd\n",
    "\n",
    "from pymcac import MCAC\n",
    "from pymcac import groupby_apply, groupby_agg\n",
    "from pymcac import progress_compute, JupyterDaskDistribute"
   ]
  },
  {
   "cell_type": "code",
   "execution_count": null,
   "metadata": {
    "collapsed": false,
    "jupyter": {
     "outputs_hidden": false
    },
    "pycharm": {
     "name": "#%%\n"
    }
   },
   "outputs": [],
   "source": [
    "k_B = 1.38066e-23  # Boltzmann constant in J/K\n",
    "T = 293.15  # Temperature\n",
    "\n",
    "# The folder with all .h5 and .xmf files\n",
    "result_path = Path(\"/Data/WORK/Projets/SRC/MCAC/validation/brownian_data\")\n",
    "MCACSimulation = MCAC(result_path)"
   ]
  },
  {
   "cell_type": "code",
   "execution_count": null,
   "metadata": {
    "collapsed": false,
    "jupyter": {
     "outputs_hidden": false
    },
    "pycharm": {
     "name": "#%%\n"
    }
   },
   "outputs": [],
   "source": [
    "# small data -> faster to avoid distribute\n",
    "# but it should work with this\n",
    "# distribute = JupyterDaskDistribute()\n",
    "# distribute.start()"
   ]
  },
  {
   "cell_type": "code",
   "execution_count": null,
   "metadata": {
    "collapsed": false,
    "jupyter": {
     "outputs_hidden": false
    },
    "pycharm": {
     "name": "#%%\n"
    }
   },
   "outputs": [],
   "source": [
    "start = time()\n",
    "\n",
    "# Read all data\n",
    "Aggregates = MCACSimulation.xaggregates\n",
    "Spheres = MCACSimulation.xspheres\n",
    "advancement = MCACSimulation.advancement"
   ]
  },
  {
   "cell_type": "code",
   "execution_count": null,
   "metadata": {},
   "outputs": [],
   "source": [
    "Aggregates"
   ]
  },
  {
   "cell_type": "code",
   "execution_count": null,
   "metadata": {
    "collapsed": false,
    "jupyter": {
     "outputs_hidden": false
    },
    "pycharm": {
     "name": "#%%\n"
    }
   },
   "outputs": [],
   "source": [
    "# small data -> faster to avoid dask so we compute now\n",
    "# but it should work without this\n",
    "# Aggregates, Spheres = progress_compute(Aggregates, Spheres)\n",
    "\n",
    "print(f\"Reading time : {time() - start}\")"
   ]
  },
  {
   "cell_type": "code",
   "execution_count": null,
   "metadata": {
    "collapsed": false,
    "jupyter": {
     "outputs_hidden": false
    },
    "pycharm": {
     "name": "#%%\n"
    }
   },
   "outputs": [],
   "source": [
    "D = (\n",
    "    k_B * T / Aggregates[\"f_agg\"][0].data\n",
    ")  # .data to keep only the value, not the with the coordinates\n",
    "BoxSize = (advancement[\"BoxVolume\"][0]) ** (1 / 3)\n",
    "\n",
    "\n",
    "def distance(df: pd.DataFrame, BoxSize: float):\n",
    "    Posx, Posy, Posz = df.iloc[0][[\"Posx\", \"Posy\", \"Posz\"]]\n",
    "    dx = abs(df[\"Posx\"] - Posx) % BoxSize\n",
    "    dy = abs(df[\"Posy\"] - Posy) % BoxSize\n",
    "    dz = abs(df[\"Posz\"] - Posz) % BoxSize\n",
    "    df[\"distance\"] = dx**2 + dy**2 + dz**2\n",
    "    return df\n",
    "\n",
    "\n",
    "tmp = groupby_apply(\n",
    "    Spheres,\n",
    "    by=\"Num\",\n",
    "    fn=distance,\n",
    "    name_in=[\"Posx\", \"Posy\", \"Posz\"],\n",
    "    meta_out={\"distance\": float},\n",
    "    BoxSize=BoxSize,\n",
    ")\n",
    "distances = groupby_agg(\n",
    "    tmp, by=\"Time\", agg=[(\"distance\", \"mean\", \"distance\")], sort=True, index_arrays=Spheres.Time\n",
    ").to_dataset()\n",
    "\n",
    "distances[\"theoretical\"] = 6 * D * distances.Time\n",
    "\n",
    "proper_time = groupby_agg(\n",
    "    Aggregates,\n",
    "    by=\"Time\",\n",
    "    agg=[\n",
    "        (\"min\", \"min\", \"proper_time\"),\n",
    "        (\"mean\", \"mean\", \"proper_time\"),\n",
    "        (\"max\", \"max\", \"proper_time\"),\n",
    "    ],\n",
    "    sort=True,\n",
    "    index_arrays=Aggregates.Time,\n",
    ")"
   ]
  },
  {
   "cell_type": "code",
   "execution_count": null,
   "metadata": {
    "collapsed": false,
    "jupyter": {
     "outputs_hidden": false
    },
    "pycharm": {
     "name": "#%%\n"
    }
   },
   "outputs": [],
   "source": [
    "# useless if done before\n",
    "print(\"compute\")\n",
    "proper_time, distances, D = progress_compute(proper_time, distances, D)"
   ]
  },
  {
   "cell_type": "code",
   "execution_count": null,
   "metadata": {
    "collapsed": false,
    "jupyter": {
     "outputs_hidden": false
    },
    "pycharm": {
     "name": "#%%\n"
    }
   },
   "outputs": [],
   "source": [
    "# if using distribute\n",
    "# distribute.stop()"
   ]
  },
  {
   "cell_type": "code",
   "execution_count": null,
   "metadata": {},
   "outputs": [],
   "source": [
    "# because plotting a dataframe is easier\n",
    "distances = distances.to_dataframe()\n",
    "proper_time = proper_time.to_dataframe()"
   ]
  },
  {
   "cell_type": "code",
   "execution_count": null,
   "metadata": {
    "collapsed": false,
    "jupyter": {
     "outputs_hidden": false
    },
    "pycharm": {
     "name": "#%%\n"
    }
   },
   "outputs": [],
   "source": [
    "print(f\"Total Compute time : {time() - start}\")"
   ]
  },
  {
   "cell_type": "code",
   "execution_count": null,
   "metadata": {
    "collapsed": false,
    "jupyter": {
     "outputs_hidden": false
    },
    "pycharm": {
     "name": "#%%\n"
    }
   },
   "outputs": [],
   "source": [
    "print(MCACSimulation.times.shape)"
   ]
  },
  {
   "cell_type": "code",
   "execution_count": null,
   "metadata": {
    "collapsed": false,
    "jupyter": {
     "outputs_hidden": false
    },
    "pycharm": {
     "name": "#%%\n"
    }
   },
   "outputs": [],
   "source": [
    "print(BoxSize, D)"
   ]
  },
  {
   "cell_type": "code",
   "execution_count": null,
   "metadata": {
    "collapsed": false,
    "jupyter": {
     "outputs_hidden": false
    },
    "pycharm": {
     "name": "#%%\n"
    }
   },
   "outputs": [],
   "source": [
    "distances.plot(style=[\"-\", \"--\"], figsize=(10, 6))\n",
    "plt.ylabel(r\"$Distance^2\\ (m^2)$\", fontsize=20)\n",
    "plt.xlabel(\"Time (s)\", fontsize=20)\n",
    "plt.legend(fontsize=16, loc=0)\n",
    "plt.show()"
   ]
  },
  {
   "cell_type": "code",
   "execution_count": null,
   "metadata": {
    "collapsed": false,
    "jupyter": {
     "outputs_hidden": false
    },
    "pycharm": {
     "name": "#%%\n"
    }
   },
   "outputs": [],
   "source": [
    "proper_time.plot(style=[\"-\", \"--\"], figsize=(10, 6))\n",
    "plt.ylabel(\"Proper time (s)\", fontsize=20)\n",
    "plt.xlabel(\"Time (s)\", fontsize=20)\n",
    "plt.legend(fontsize=16, loc=0)\n",
    "plt.show()"
   ]
  },
  {
   "cell_type": "code",
   "execution_count": null,
   "metadata": {},
   "outputs": [],
   "source": []
  }
 ],
 "metadata": {
  "kernelspec": {
   "display_name": "Python 3.9.5 64-bit ('venv': venv)",
   "language": "python",
   "name": "python395jvsc74a57bd09c1f832a3719b21c59dd26bb5913b00f45dc174d2a50d9e95e66ce50e86684da"
  },
  "language_info": {
   "codemirror_mode": {
    "name": "ipython",
    "version": 3
   },
   "file_extension": ".py",
   "mimetype": "text/x-python",
   "name": "python",
   "nbconvert_exporter": "python",
   "pygments_lexer": "ipython3",
   "version": "3.9.5"
  }
 },
 "nbformat": 4,
 "nbformat_minor": 4
}
