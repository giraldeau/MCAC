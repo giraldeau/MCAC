{
 "cells": [
  {
   "cell_type": "code",
   "execution_count": null,
   "metadata": {
    "pycharm": {
     "name": "#%%\n"
    }
   },
   "outputs": [],
   "source": [
    "from pathlib import Path\n",
    "from time import time\n",
    "\n",
    "import matplotlib.pyplot as plt\n",
    "import pandas as pd\n",
    "\n",
    "from pymcac import MCAC\n",
    "from pymcac import groupby_apply, groupby_agg\n",
    "from pymcac import progress_compute, DaskDistribute"
   ]
  },
  {
   "cell_type": "code",
   "execution_count": null,
   "metadata": {
    "collapsed": false,
    "jupyter": {
     "outputs_hidden": false
    },
    "pycharm": {
     "name": "#%%\n"
    }
   },
   "outputs": [],
   "source": [
    "k_B = 1.38066e-23  # Boltzmann constant in J/K\n",
    "T = 293.15  # Temperature\n",
    "\n",
    "# The folder with all .h5 and .xmf files\n",
    "result_path = Path(\"/Data/WORK/Projets/SRC/MCAC/validation/brownian_data\")\n",
    "MCACSimulation = MCAC(result_path)"
   ]
  },
  {
   "cell_type": "code",
   "execution_count": null,
   "metadata": {
    "collapsed": false,
    "jupyter": {
     "outputs_hidden": false
    },
    "pycharm": {
     "name": "#%%\n"
    }
   },
   "outputs": [],
   "source": [
    "# small data -> faster to avoid distribute\n",
    "# but it should work with this\n",
    "# client = DaskDistribute().start()\n",
    "# client"
   ]
  },
  {
   "cell_type": "code",
   "execution_count": null,
   "metadata": {
    "collapsed": false,
    "jupyter": {
     "outputs_hidden": false
    },
    "pycharm": {
     "name": "#%%\n"
    }
   },
   "outputs": [],
   "source": [
    "start = time()\n",
    "\n",
    "# Read all data\n",
    "Aggregates = MCACSimulation.xaggregates\n",
    "Spheres = MCACSimulation.xspheres"
   ]
  },
  {
   "cell_type": "code",
   "execution_count": null,
   "metadata": {
    "collapsed": false,
    "jupyter": {
     "outputs_hidden": false
    },
    "pycharm": {
     "name": "#%%\n"
    }
   },
   "outputs": [],
   "source": [
    "# small data -> faster to avoid dask so we compute now\n",
    "# but it should work without this\n",
    "Aggregates, Spheres = progress_compute(Aggregates, Spheres)\n",
    "\n",
    "print(f\"Reading time : {time() - start}\")"
   ]
  },
  {
   "cell_type": "code",
   "execution_count": null,
   "metadata": {
    "collapsed": false,
    "jupyter": {
     "outputs_hidden": false
    },
    "pycharm": {
     "name": "#%%\n"
    }
   },
   "outputs": [],
   "source": [
    "D = k_B * T / float(Aggregates[\"f_agg\"][0])\n",
    "BoxSize = float(Aggregates[\"BoxSize\"][0])\n",
    "\n",
    "def distance(df: pd.DataFrame):\n",
    "    Posx, Posy, Posz = df.iloc[0][[\"Posx\", \"Posy\", \"Posz\"]]\n",
    "    dx = abs(df[\"Posx\"] - Posx) % BoxSize\n",
    "    dy = abs(df[\"Posy\"] - Posy) % BoxSize\n",
    "    dz = abs(df[\"Posz\"] - Posz) % BoxSize\n",
    "    df[\"distance\"] = dx ** 2 + dy ** 2 + dz ** 2\n",
    "    return df\n",
    "\n",
    "tmp = groupby_apply(Spheres, by=\"Num\",\n",
    "                    meta_out={\"distance\": float}, fn=distance, name_in=[\"Posx\", \"Posy\", \"Posz\"])\n",
    "distances = groupby_agg(tmp, by=\"Time\", agg=[(\"distance\", \"mean\", \"distance\")]).to_dataset()\n",
    "\n",
    "distances[\"theorical\"] = 6 * D * distances.Time\n",
    "\n",
    "proper_time = groupby_agg(Aggregates, by=\"Time\", agg=[\n",
    "    (\"min\", \"min\", \"proper_time\"),\n",
    "    (\"mean\", \"mean\", \"proper_time\"),\n",
    "    (\"max\", \"max\", \"proper_time\"),\n",
    "    ])"
   ]
  },
  {
   "cell_type": "code",
   "execution_count": null,
   "metadata": {
    "collapsed": false,
    "jupyter": {
     "outputs_hidden": false
    },
    "pycharm": {
     "name": "#%%\n"
    }
   },
   "outputs": [],
   "source": [
    "# useless if done before\n",
    "# print(\"compute\")\n",
    "# proper_time, distances = progress_compute(proper_time, distances)"
   ]
  },
  {
   "cell_type": "code",
   "execution_count": null,
   "metadata": {
    "collapsed": false,
    "jupyter": {
     "outputs_hidden": false
    },
    "pycharm": {
     "name": "#%%\n"
    }
   },
   "outputs": [],
   "source": [
    "# if using distribute\n",
    "# client.close()"
   ]
  },
  {
   "cell_type": "code",
   "execution_count": null,
   "metadata": {},
   "outputs": [],
   "source": [
    "# because plotting a dataframe is easyer\n",
    "distances = distances.to_dataframe()\n",
    "proper_time = proper_time.to_dataframe()"
   ]
  },
  {
   "cell_type": "code",
   "execution_count": null,
   "metadata": {
    "collapsed": false,
    "jupyter": {
     "outputs_hidden": false
    },
    "pycharm": {
     "name": "#%%\n"
    }
   },
   "outputs": [],
   "source": [
    "print(f\"Total Compute time : {time() - start}\")"
   ]
  },
  {
   "cell_type": "code",
   "execution_count": null,
   "metadata": {
    "collapsed": false,
    "jupyter": {
     "outputs_hidden": false
    },
    "pycharm": {
     "name": "#%%\n"
    }
   },
   "outputs": [],
   "source": [
    "print(MCACSimulation.times.shape)"
   ]
  },
  {
   "cell_type": "code",
   "execution_count": null,
   "metadata": {
    "collapsed": false,
    "jupyter": {
     "outputs_hidden": false
    },
    "pycharm": {
     "name": "#%%\n"
    }
   },
   "outputs": [],
   "source": [
    "print(BoxSize, D)"
   ]
  },
  {
   "cell_type": "code",
   "execution_count": null,
   "metadata": {
    "collapsed": false,
    "jupyter": {
     "outputs_hidden": false
    },
    "pycharm": {
     "name": "#%%\n"
    }
   },
   "outputs": [],
   "source": [
    "distances.plot(style=[\"-\", \"--\"], figsize=(10, 6))\n",
    "plt.ylabel(r\"$Distance^2\\ (m^2)$\", fontsize=20)\n",
    "plt.xlabel(\"Time (s)\", fontsize=20)\n",
    "plt.legend(fontsize=16, loc=0)\n",
    "plt.show()"
   ]
  },
  {
   "cell_type": "code",
   "execution_count": null,
   "metadata": {
    "collapsed": false,
    "jupyter": {
     "outputs_hidden": false
    },
    "pycharm": {
     "name": "#%%\n"
    }
   },
   "outputs": [],
   "source": [
    "proper_time.plot(style=[\"-\", \"--\"], figsize=(10, 6))\n",
    "plt.ylabel(\"Proper time (s)\", fontsize=20)\n",
    "plt.xlabel(\"Time (s)\", fontsize=20)\n",
    "plt.legend(fontsize=16, loc=0)\n",
    "plt.show()"
   ]
  }
 ],
 "metadata": {
  "kernelspec": {
   "display_name": "Python 3",
   "language": "python",
   "name": "python3"
  },
  "language_info": {
   "codemirror_mode": {
    "name": "ipython",
    "version": 3
   },
   "file_extension": ".py",
   "mimetype": "text/x-python",
   "name": "python",
   "nbconvert_exporter": "python",
   "pygments_lexer": "ipython3",
   "version": "3.8.5"
  }
 },
 "nbformat": 4,
 "nbformat_minor": 4
}
