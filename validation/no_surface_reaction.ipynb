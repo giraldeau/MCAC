{
 "cells": [
  {
   "cell_type": "markdown",
   "metadata": {},
   "source": [
    "# Script to validate MCAC after major modifications"
   ]
  },
  {
   "cell_type": "markdown",
   "metadata": {},
   "source": [
    "## Table of Contents\n",
    "1. [Introduction](#Introduction)\n",
    "2. [Parameters](#Parameters)\n",
    "2. [Read and compute](#Read_and_compute)\n",
    "3. [Results](#Results)\n",
    "    1. [Residence time](#Residence_time)\n",
    "    2. [Volume fraction](#Volume_fraction)\n",
    "    3. [Diffusion coefficient](#Diffusion_coefficient)\n",
    "    4. [Particle number concentration](#Particle_number_concentration)\n",
    "    5. [Gas Knudsen number](#Knudsen)\n",
    "    6. [Radius of gyration](#gyration)\n",
    "    7. [Aggregate polydispersity](#polydispersity)\n",
    "    8. [Total energy](#energy)"
   ]
  },
  {
   "cell_type": "markdown",
   "metadata": {},
   "source": [
    "## Introduction <a class=\"anchor\" id=\"Introduction\"></a>\n",
    "\n",
    "This Python script aims at validating MCAC by comparing with a \"well known\" case already simulated in a previous version of the code (published results). This is referred as \"ref_case\" compared with the new simulation \"new_case\".\n",
    "\n",
    "In this particular code only coagulation takes place without other mechanisms of particle growth or nucleation. The aspects of the code to be validated are: the mobility (diffusion coefficient D), kinetics of aggregation (number of clusters: Nc, the size of the box: L_box, and the particle number concentration: N), flow regime (Gas Knudsen number) morpholoogy (Rg vs. Np, fractal dimension and prefactor), and aggregate polydispersity (GSD of Dv). Finally, the conservation of energy (only kinetic since interaction potential are not simulated) is tested."
   ]
  },
  {
   "cell_type": "code",
   "execution_count": null,
   "metadata": {},
   "outputs": [],
   "source": [
    "from pathlib import Path\n",
    "\n",
    "import matplotlib.pyplot as plt\n",
    "import numpy as np\n",
    "import xarray as xr\n",
    "import dask\n",
    "import dask.array as da\n",
    "from sklearn.linear_model import LinearRegression\n",
    "from IPython.display import display\n",
    "\n",
    "from pymcac import dask_distribute\n",
    "from pymcac import JupyterDaskDistribute\n",
    "from pymcac import MCAC\n",
    "from pymcac import groupby_agg\n",
    "from pymcac import progress_compute\n",
    "from pymcac import mobility_diameter\n",
    "from pymcac.tools.core.groupby import groupby_aggregate"
   ]
  },
  {
   "cell_type": "code",
   "execution_count": null,
   "metadata": {},
   "outputs": [],
   "source": [
    "def add_missing_quantities(xAggregates, xSpheres):\n",
    "\n",
    "    xAggregates[\"log_Rv\"] = np.log((6 * xAggregates.Volume / np.pi)) / 3\n",
    "    xAggregates[\"Ec\"] = 0.5 * xAggregates.Volume * rhop_0 * (xAggregates.lpm / xAggregates.Deltat) ** 2\n",
    "\n",
    "    xAggregates[\"Dm\"] = mobility_diameter(xAggregates.f_agg,\n",
    "                           A1=A1, A2=A2, A3=A3, lambda_g=lambda_g, mu_g=mu_g)\n",
    "    xAggregates[\"Kn\"] = 2 * lambda_g / xAggregates[\"Dm\"]\n",
    "\n",
    "    # does the job, only slower\n",
    "#     xMeanRp = groupby_aggregate(xSpheres, xAggregates,\n",
    "#                                 np.mean,\n",
    "#                                 [\"Radius\"],\n",
    "#                                 {\"MeanRp\": np.float64})\n",
    "    xMeanRp = groupby_agg(xSpheres,\n",
    "                          by=[\"Time\", \"Label\"],\n",
    "                          agg=[(\"Radius\", \"mean\", \"Radius\")],\n",
    "                          index_arrays=[xAggregates.kTime, xAggregates.kLabel])\n",
    "    # rechunking to align xMeanRp on xAggregates\n",
    "    xMeanRp = xMeanRp.chunk({\"k\": xAggregates.chunks[\"k\"]})\n",
    "    # using xMeanRp.data avoid triggering a computation\n",
    "    # due to possibly misaligned coordinates\n",
    "    # (groupby_agg sorts by default so this can be skipped)\n",
    "    xAggregates[\"DgOverDp\"] = xAggregates.Rg / xMeanRp[\"Radius\"].data\n",
    "\n",
    "    return xAggregates, xSpheres"
   ]
  },
  {
   "cell_type": "code",
   "execution_count": null,
   "metadata": {},
   "outputs": [],
   "source": [
    "def time_averaged_quantities(xAggregates, xSpheres):\n",
    "\n",
    "    time_averaged = groupby_agg(xAggregates,\n",
    "                                by=\"Time\",\n",
    "                                index_arrays=xAggregates.Time,\n",
    "                                agg=[\n",
    "        (\"f_agg\", \"mean\",\"f_agg\"),\n",
    "        (\"Np\", \"mean\",\"Np\"),\n",
    "        (\"Rg\", \"mean\",\"Rg\"),\n",
    "        (\"DgOverDp\", \"mean\",\"DgOverDp\"),\n",
    "        (\"Dm\", \"mean\",\"Dm\"),\n",
    "        (\"Kn\", \"mean\",\"Kn\"),\n",
    "        (\"Nc\", \"size\",\"Np\"),\n",
    "        (\"Ec\", \"sum\",\"Ec\"),\n",
    "        (\"fv\", \"sum\",\"Volume\"),\n",
    "        (\"Rv_geo\", \"mean\",\"log_Rv\"),\n",
    "        (\"sv_geo\", \"std\",\"log_Rv\")\n",
    "    ])\n",
    "    BoxVolume = xAggregates.BoxVolume.chunk({\"Time\": -1})\n",
    "    time_averaged[\"fv\"] /= BoxVolume\n",
    "    time_averaged[\"Rv_geo\"] = np.exp(time_averaged.Rv_geo)\n",
    "    time_averaged[\"sv_geo\"] = np.exp(time_averaged.sv_geo)\n",
    "\n",
    "    time_averaged[\"Nc density\"] = time_averaged.Nc / BoxVolume\n",
    "    time_averaged[\"Diffusion\"] = k_B * T_g / time_averaged.f_agg\n",
    "\n",
    "    time_averaged[\"Dm_avg\"] = mobility_diameter(time_averaged.f_agg,\n",
    "                                                A1=A1, A2=A2, A3=A3, lambda_g=lambda_g, mu_g=mu_g)\n",
    "    time_averaged[\"Kn_avg\"] = 2 * lambda_g / time_averaged[\"Dm_avg\"]\n",
    "\n",
    "    xMeanRp = groupby_agg(xSpheres,\n",
    "                          by=\"Time\",\n",
    "                          agg=[(\"Radius\", \"mean\", \"Radius\")],\n",
    "                          index_arrays=xSpheres.Time,)\n",
    "    # rechunking to align xMeanRp on xAggregates\n",
    "    xMeanRp = xMeanRp.chunk({\"Time\": xAggregates.chunks[\"Time\"]})\n",
    "    # using xMeanRp.data avoid triggering a computation\n",
    "    # due to possibly misaligned coordinates\n",
    "    # (groupby_agg sorts by default so this can be skipped)\n",
    "    time_averaged[\"DgOverDp_avg\"] = time_averaged.Rg / xMeanRp.data\n",
    "\n",
    "    time_averaged = time_averaged.reset_coords(\"nLabel\")\n",
    "\n",
    "    return time_averaged"
   ]
  },
  {
   "cell_type": "code",
   "execution_count": null,
   "metadata": {},
   "outputs": [],
   "source": [
    "def read(path, tmax=None, nt=None):\n",
    "    # The folder with all .h5 and .xmf files\n",
    "    MCACSimulation = MCAC(path)\n",
    "\n",
    "    # Read all data\n",
    "    Spheres = MCACSimulation.get_xspheres(spheres_cols, tmax=tmax, nt=nt)\n",
    "    Aggregates = MCACSimulation.get_xaggregates(aggregates_cols, tmax=tmax, nt=nt)\n",
    "\n",
    "    # Per aggregate computations\n",
    "    Aggregates, Spheres = add_missing_quantities(Aggregates, Spheres)\n",
    "\n",
    "    # Per time-step computations\n",
    "    time_averaged = time_averaged_quantities(Aggregates, Spheres)\n",
    "\n",
    "    return MCACSimulation, time_averaged"
   ]
  },
  {
   "cell_type": "code",
   "execution_count": null,
   "metadata": {},
   "outputs": [],
   "source": [
    "def plot_compare(ds1, ds2, x, y, xlabel=None, ylabel=None, **kwargs):\n",
    "    fig = plt.figure(figsize=(10, 6), dpi=80, facecolor='w', edgecolor='k')\n",
    "    fig.set_tight_layout(False)\n",
    "\n",
    "    kwargs[\"ax\"] = kwargs.get(\"ax\", plt.gca())\n",
    "\n",
    "    if x is None:\n",
    "        x = next(iter(ds1.coords))\n",
    "\n",
    "    if isinstance(y, str):\n",
    "        y = [y]\n",
    "\n",
    "    if isinstance(ds1, xr.DataArray):\n",
    "        ds1 = ds1.to_dataset()\n",
    "    if isinstance(ds2, xr.DataArray):\n",
    "        ds2 = ds2.to_dataset()\n",
    "\n",
    "    df1 = ds1[[x]+y].to_dataframe()\n",
    "    df2 = ds2[[x]+y].to_dataframe()\n",
    "\n",
    "    if x in df1.columns:\n",
    "        df1 = df1.set_index(x)\n",
    "        df2 = df2.set_index(x)\n",
    "    df1 = df1.sort_index()\n",
    "    df2 = df2.sort_index()\n",
    "\n",
    "    df1.plot(**kwargs, style=\"-\")\n",
    "    df2.plot(**kwargs, style=\"--\")\n",
    "\n",
    "    if xlabel is not None:\n",
    "        plt.xlabel(xlabel)\n",
    "    if ylabel is not None:\n",
    "        plt.ylabel(ylabel)\n",
    "\n",
    "    plt.legend([f\"New {varname}\" for varname in y] + [f\"Ref {varname}\" for varname in y])\n",
    "    plt.show()"
   ]
  },
  {
   "cell_type": "markdown",
   "metadata": {},
   "source": [
    "## Parameters <a class=\"anchor\" id=\"Parameters\"></a>\n",
    "\n",
    "Check these parameters before running the script!"
   ]
  },
  {
   "cell_type": "code",
   "execution_count": null,
   "metadata": {},
   "outputs": [],
   "source": [
    "T_g = 1_700  # temperature in K\n",
    "P_g = 101_300  # pressure in Pa\n",
    "rhop_0 = 1_800  # particle bulk density in kg/m^3\n",
    "k_B = 1.38066E-23  # Boltzmann constant in J/K\n",
    "\n",
    "# gas mean free path and viscosity\n",
    "lambda_g = 66.5E-9 * (101_300 / P_g) * (T_g / 293.15) * (1 + 110 / 293.15) / (1 + 110 / T_g)  # in m\n",
    "mu_g = 18.203E-6 * (293.15 + 110) / (T_g + 110) * (T_g / 293.15) ** 1.5  # in Ps*s\n",
    "\n",
    "# for Cunningham slip correction factor: Cc\n",
    "A1 = 1.142\n",
    "A2 = 0.558\n",
    "A3 = 0.999\n",
    "\n",
    "spheres_cols = [\"Radius\", \"Label\"]\n",
    "aggregates_cols = [\"Volume\", \"lpm\", \"Deltat\", \"f_agg\", \"Rg\", \"Np\", \"BoxVolume\"]\n",
    "\n",
    "polydisperse = False\n",
    "if polydisperse:\n",
    "    reference_path = Path(\"/stockage/samba/Partages/public/MCAC_validation/03_VARYING_PP_polyd/03p1_SIGMAp_1p25/run1\")\n",
    "    result_path = Path(\"polydisperse_data\")\n",
    "else:\n",
    "    #reference_path = Path(\"/stockage/samba/Partages/public/MCAC_validation/02_VARYING_DP/02p3_Dp10nm_np0_3200/run1\")\n",
    "    reference_path = Path(\"monodisperse_data_ref\")\n",
    "    result_path = Path(\"monodisperse_data\")"
   ]
  },
  {
   "cell_type": "code",
   "execution_count": null,
   "metadata": {},
   "outputs": [],
   "source": [
    "# distribute = JupyterDaskDistribute()\n",
    "# distribute.start()"
   ]
  },
  {
   "cell_type": "markdown",
   "metadata": {},
   "source": [
    "## Read and compute  <a class=\"anchor\" id=\"Read_and_compute\"></a>\n",
    "\n",
    "You can look at the dashboard to see progress in more details"
   ]
  },
  {
   "cell_type": "code",
   "execution_count": null,
   "metadata": {},
   "outputs": [],
   "source": [
    "with dask_distribute(report=True) as c:\n",
    "    display(c)\n",
    "    print(\"Reading new\")\n",
    "    newSimulation, new_time_averaged = read(result_path, nt=200)\n",
    "\n",
    "    print(\"Reading reference\")\n",
    "    refSimulation, ref_time_averaged = read(reference_path, nt=200)\n",
    "\n",
    "    print(\"Start compute\")\n",
    "    new_time_averaged, ref_time_averaged = progress_compute(new_time_averaged, ref_time_averaged)\n",
    "print(\"Done\")"
   ]
  },
  {
   "cell_type": "markdown",
   "metadata": {},
   "source": [
    "## Results <a class=\"anchor\" id=\"Results\"></a>"
   ]
  },
  {
   "cell_type": "code",
   "execution_count": null,
   "metadata": {},
   "outputs": [],
   "source": [
    "new_time_averaged"
   ]
  },
  {
   "cell_type": "code",
   "execution_count": null,
   "metadata": {},
   "outputs": [],
   "source": [
    "ref_time_averaged"
   ]
  },
  {
   "cell_type": "markdown",
   "metadata": {},
   "source": [
    "### Residence time <a class=\"anchor\" id=\"Residence_time\"></a>"
   ]
  },
  {
   "cell_type": "code",
   "execution_count": null,
   "metadata": {},
   "outputs": [],
   "source": [
    "print(f\" Ref total residence time: \"\n",
    "      f\"{float(ref_time_averaged.Time[-1] - ref_time_averaged.Time[0]) * 1e3} (ms) \"\n",
    "      f\"({ref_time_averaged.Time.size} it)\")\n",
    "print(f\" New total residence time: \"\n",
    "      f\"{float(new_time_averaged.Time[-1] - new_time_averaged.Time[0]) * 1e3} (ms) \"\n",
    "      f\"({new_time_averaged.Time.size} it)\")"
   ]
  },
  {
   "cell_type": "markdown",
   "metadata": {},
   "source": [
    "### Volume fraction <a class=\"anchor\" id=\"Volume_fraction\"></a>"
   ]
  },
  {
   "cell_type": "code",
   "execution_count": null,
   "metadata": {},
   "outputs": [],
   "source": [
    "print(f\" ref volume fraction = {float(ref_time_averaged.fv[0]) * 1e+06} ppm\")\n",
    "print(f\" new volume fraction = {float(new_time_averaged.fv[0]) * 1e+06} ppm\")\n",
    "plot_compare(new_time_averaged.fv * 1e+06, ref_time_averaged.fv * 1e+06,\n",
    "             x=None, xlabel=\"Time (s)\",\n",
    "             y=\"fv\", ylabel=\"volume fraction (ppm)\",\n",
    "             loglog=False)"
   ]
  },
  {
   "cell_type": "markdown",
   "metadata": {},
   "source": [
    "### Diffusion coefficient <a class=\"anchor\" id=\"Diffusion_coefficient\"></a>"
   ]
  },
  {
   "cell_type": "code",
   "execution_count": null,
   "metadata": {},
   "outputs": [],
   "source": [
    "# Comparison of diffusion coefficients allow to check: temperature, friction coefficient,\n",
    "# fLuid viscosity. Becareful, f_agg depends on the fractal dimension!\n",
    "plot_compare(new_time_averaged, ref_time_averaged,\n",
    "             x=\"Np\", xlabel=\"Number of monomers per aggregate (mean)\",\n",
    "             y=\"Diffusion\", ylabel=\"Diffusion coefficient (m^2/s)\",\n",
    "             loglog=True)"
   ]
  },
  {
   "cell_type": "markdown",
   "metadata": {},
   "source": [
    "### Particle number concentration <a class=\"anchor\" id=\"Particle_number_concentration\"></a>"
   ]
  },
  {
   "cell_type": "code",
   "execution_count": null,
   "metadata": {},
   "outputs": [],
   "source": [
    "# plot_compare(new_time_averaged, ref_time_averaged,\n",
    "#              x=None, xlabel=\"Time (s)\",\n",
    "#              y=\"Nc\", ylabel=\"Number of aggregate (-)\",\n",
    "#              loglog=True)\n",
    "# plot_compare(new_time_averaged, ref_time_averaged,\n",
    "#              x=None, xlabel=\"Time (s)\",\n",
    "#              y=\"BoxSize\", ylabel=\"Box size (m)\",\n",
    "#              loglog=True)\n",
    "plot_compare(new_time_averaged, ref_time_averaged,\n",
    "             x=None, xlabel=\"Time (s)\",\n",
    "             y=\"Nc density\", ylabel=\"Particle number concentration (-)\",\n",
    "             loglog=True)\n",
    "print(f\"Ref case initialized with {int(ref_time_averaged.Nc[0])} monomers\")\n",
    "print(f\"New case initialized with {int(new_time_averaged.Nc[0])} monomers\")"
   ]
  },
  {
   "cell_type": "markdown",
   "metadata": {},
   "source": [
    "### Gas Knudsen number <a class=\"anchor\" id=\"Knudsen\"></a>"
   ]
  },
  {
   "cell_type": "code",
   "execution_count": null,
   "metadata": {},
   "outputs": [],
   "source": [
    "plot_compare(new_time_averaged, ref_time_averaged,\n",
    "             x=None, xlabel=\"Time (s)\",\n",
    "             y=[\"Kn\", \"Kn_avg\"], ylabel=\"Gas Knudsen number\",\n",
    "             loglog=True)"
   ]
  },
  {
   "cell_type": "markdown",
   "metadata": {},
   "source": [
    "### Radius of gyration <a class=\"anchor\" id=\"gyration\"></a>"
   ]
  },
  {
   "cell_type": "code",
   "execution_count": null,
   "metadata": {},
   "outputs": [],
   "source": [
    "# Allows to check the role played by monomer mass is correcly considered for each\n",
    "# agglomerate. Also, according to Np and the fractal dimension they should have\n",
    "# comparable values.\n",
    "plot_compare(new_time_averaged, ref_time_averaged,\n",
    "             x=\"Np\", xlabel=\"Number of monomers per aggregate (mean)\",\n",
    "             y=\"Rg\", ylabel=\"Radius of gyration (m)\",\n",
    "             loglog=True)"
   ]
  },
  {
   "cell_type": "code",
   "execution_count": null,
   "metadata": {},
   "outputs": [],
   "source": [
    "plot_compare(new_time_averaged, ref_time_averaged,\n",
    "             x=\"Np\", xlabel=\"Number of monomers per aggregate (mean)\",\n",
    "             y=[\"DgOverDp\", \"DgOverDp_avg\"], ylabel=\"DgOverDp\",\n",
    "             loglog=True)"
   ]
  },
  {
   "cell_type": "code",
   "execution_count": null,
   "metadata": {},
   "outputs": [],
   "source": [
    "# The population-based fractal dimension and prefactor\n",
    "# Becareful: There is variability on these parameters for individual simulations.\n",
    "\n",
    "model = LinearRegression()\n",
    "model.fit(np.log(ref_time_averaged.DgOverDp_avg).values[:, np.newaxis],\n",
    "          np.log(ref_time_averaged.Np))\n",
    "print(f\"Ref fractal Law: {np.exp(model.intercept_)} x^{model.coef_[0]}\")\n",
    "\n",
    "model.fit(np.log(new_time_averaged.DgOverDp_avg).values[:, np.newaxis],\n",
    "          np.log(new_time_averaged.Np))\n",
    "print(f\"New fractal Law: {np.exp(model.intercept_)} x^{model.coef_[0]}\")"
   ]
  },
  {
   "cell_type": "markdown",
   "metadata": {},
   "source": [
    "### Aggregate polydispersity  <a class=\"anchor\" id=\"polydispersity\"></a>"
   ]
  },
  {
   "cell_type": "code",
   "execution_count": null,
   "metadata": {},
   "outputs": [],
   "source": [
    "plot_compare(new_time_averaged, ref_time_averaged,\n",
    "             x=\"Np\", xlabel=\"Number of monomers per aggregate (mean)\",\n",
    "             y=\"Rv_geo\", ylabel=\"Geometric mean vol-eq. radius, R_v (nm)\",\n",
    "             loglog=False)\n",
    "plot_compare(new_time_averaged, ref_time_averaged,\n",
    "             x=\"Np\", xlabel=\"Number of monomers per aggregate (mean)\",\n",
    "             y=\"sv_geo\", ylabel=\"Geometric standard deviation, $\\sigma_{g,rv}$ (-)\",\n",
    "             loglog=False)"
   ]
  },
  {
   "cell_type": "markdown",
   "metadata": {},
   "source": [
    "### Total energy  <a class=\"anchor\" id=\"energy\"></a>"
   ]
  },
  {
   "cell_type": "markdown",
   "metadata": {},
   "source": [
    "The total kinetic energy of the system of $N$ particles is, $$K=\\sum_i^{N} \\frac{1}{2}m_ic_i^2$$\n",
    "where $m_i$ and $c_i=\\frac{lpm_i}{\\Delta t_i}$ are the mass and averaged velocity of the $i^{th}$ particle, respectively.\n",
    "\n",
    "From the kinetic theory of gases we have, $$\\frac{1}{2}m_ic_i^2=\\frac{3}{2}k_BT$$\n",
    "\n",
    "Therefore, the total energy is related to the temperature as, $$E_{tot}=N\\frac{3}{2}k_BT=K$$"
   ]
  },
  {
   "cell_type": "code",
   "execution_count": null,
   "metadata": {},
   "outputs": [],
   "source": [
    "new_time_averaged[\"Kinetic energy per aggregate\"] = new_time_averaged.Ec / new_time_averaged.Nc\n",
    "ref_time_averaged[\"Kinetic energy per aggregate\"] = ref_time_averaged.Ec / ref_time_averaged.Nc\n",
    "\n",
    "print(f\"    kb * T = {k_B * T_g}\")\n",
    "print(f\" ref Ec/Nc = {float(ref_time_averaged['Kinetic energy per aggregate'][0])}\")\n",
    "print(f\" new Ec/Nc = {float(new_time_averaged['Kinetic energy per aggregate'][0])}\")\n",
    "print(f\" ref Ec/Nc = {float(ref_time_averaged['Kinetic energy per aggregate'][-1])}\")\n",
    "print(f\" new Ec/Nc = {float(new_time_averaged['Kinetic energy per aggregate'][-1])}\")\n",
    "\n",
    "plot_compare(new_time_averaged, ref_time_averaged,\n",
    "             x=\"Np\", xlabel=\"Number of monomers per aggregate (mean)\",\n",
    "             y=\"Kinetic energy per aggregate\", ylabel=\"Kinetic energy per aggregate\",\n",
    "             loglog=False)"
   ]
  },
  {
   "cell_type": "code",
   "execution_count": null,
   "metadata": {},
   "outputs": [],
   "source": []
  },
  {
   "cell_type": "code",
   "execution_count": null,
   "metadata": {},
   "outputs": [],
   "source": []
  }
 ],
 "metadata": {
  "kernelspec": {
   "display_name": "Python 3.9.5 64-bit ('venv': venv)",
   "language": "python",
   "name": "python395jvsc74a57bd09c1f832a3719b21c59dd26bb5913b00f45dc174d2a50d9e95e66ce50e86684da"
  },
  "language_info": {
   "codemirror_mode": {
    "name": "ipython",
    "version": 3
   },
   "file_extension": ".py",
   "mimetype": "text/x-python",
   "name": "python",
   "nbconvert_exporter": "python",
   "pygments_lexer": "ipython3",
   "version": "3.9.5"
  }
 },
 "nbformat": 4,
 "nbformat_minor": 4
}
